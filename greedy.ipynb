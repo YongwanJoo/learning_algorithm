{
 "cells": [
  {
   "cell_type": "code",
   "execution_count": null,
   "id": "1ad7629f-08fa-4678-8465-f4cab3a41cad",
   "metadata": {},
   "outputs": [],
   "source": [
    "Example problem: https://www.acmicpc.net/problem/5585"
   ]
  },
  {
   "cell_type": "code",
   "execution_count": 4,
   "id": "4987e99a-f1d9-497e-8f69-f968d24c4b12",
   "metadata": {},
   "outputs": [
    {
     "name": "stdin",
     "output_type": "stream",
     "text": [
      " 1\n"
     ]
    },
    {
     "name": "stdout",
     "output_type": "stream",
     "text": [
      "15\n"
     ]
    }
   ],
   "source": [
    "cash = 1000\n",
    "pay = int(input())\n",
    "\n",
    "if pay < 1 or pay >= 1000:\n",
    "    exit(0)\n",
    "else:\n",
    "    tmp = cash - pay\n",
    "    count = 0\n",
    "    while(tmp > 0):\n",
    "        if tmp >= 500:\n",
    "            tmp -= 500\n",
    "            count += 1\n",
    "        elif tmp >= 100:\n",
    "            tmp -= 100\n",
    "            count += 1\n",
    "        elif tmp >= 50:\n",
    "            tmp -= 50\n",
    "            count += 1\n",
    "        elif tmp >= 10:\n",
    "            tmp -= 10\n",
    "            count += 1\n",
    "        elif tmp >= 5:\n",
    "            tmp -= 5\n",
    "            count += 1\n",
    "        elif tmp >= 1:\n",
    "            tmp -= 1\n",
    "            count += 1\n",
    "print(count)"
   ]
  },
  {
   "cell_type": "code",
   "execution_count": null,
   "id": "3bde955e-0687-4f34-92c7-e8c8983b5ebd",
   "metadata": {},
   "outputs": [],
   "source": [
    "Example problem:https://www.acmicpc.net/problem/1931"
   ]
  },
  {
   "cell_type": "code",
   "execution_count": null,
   "id": "727bd1af-9fb6-4fe5-b0f4-d9fd8a5ea81d",
   "metadata": {},
   "outputs": [],
   "source": [
    "import sys\n",
    "\n",
    "n = int(input())\n",
    "\n",
    "end_time = 0\n",
    "count = 0\n",
    "\n",
    "meet = []\n",
    "\n",
    "for i in range(n):\n",
    "    start, end = map(int, sys.stdin.readline().rstrip().split())\n",
    "    meet.append([start,end])\n",
    "\n",
    "meet.sort(key=lambda x:(x[1],x[0]))\n",
    "\n",
    "for new_start, new_end in meet:\n",
    "    if end_time <= new_start:\n",
    "        count += 1\n",
    "        end_time = new_end\n",
    "\n",
    "print(count)"
   ]
  },
  {
   "cell_type": "code",
   "execution_count": null,
   "id": "b14fbfa4-a849-4dd7-b46a-b981042758f2",
   "metadata": {},
   "outputs": [],
   "source": [
    "Example problem:https://www.acmicpc.net/problem/11000"
   ]
  },
  {
   "cell_type": "code",
   "execution_count": 3,
   "id": "95bab415-f6cb-4398-ba07-24733abf8bed",
   "metadata": {},
   "outputs": [
    {
     "name": "stdin",
     "output_type": "stream",
     "text": [
      " 3\n"
     ]
    },
    {
     "name": "stdout",
     "output_type": "stream",
     "text": [
      "\n"
     ]
    },
    {
     "ename": "ValueError",
     "evalue": "not enough values to unpack (expected 2, got 0)",
     "output_type": "error",
     "traceback": [
      "\u001b[1;31m---------------------------------------------------------------------------\u001b[0m",
      "\u001b[1;31mValueError\u001b[0m                                Traceback (most recent call last)",
      "Cell \u001b[1;32mIn[3], line 8\u001b[0m\n\u001b[0;32m      6\u001b[0m classes \u001b[38;5;241m=\u001b[39m []\n\u001b[0;32m      7\u001b[0m \u001b[38;5;28;01mfor\u001b[39;00m i \u001b[38;5;129;01min\u001b[39;00m \u001b[38;5;28mrange\u001b[39m(n):\n\u001b[1;32m----> 8\u001b[0m     s,t \u001b[38;5;241m=\u001b[39m \u001b[38;5;28mmap\u001b[39m(\u001b[38;5;28mint\u001b[39m, sys\u001b[38;5;241m.\u001b[39mstdin\u001b[38;5;241m.\u001b[39mreadline()\u001b[38;5;241m.\u001b[39msplit())\n\u001b[0;32m      9\u001b[0m     classes\u001b[38;5;241m.\u001b[39mappend([s,t])\n\u001b[0;32m     11\u001b[0m classes\u001b[38;5;241m.\u001b[39msort()\n",
      "\u001b[1;31mValueError\u001b[0m: not enough values to unpack (expected 2, got 0)"
     ]
    }
   ],
   "source": [
    "import sys\n",
    "import heapq\n",
    "\n",
    "n = int(input())\n",
    "\n",
    "classes = []\n",
    "for i in range(n):\n",
    "    s,t = map(int, sys.stdin.readline().split())\n",
    "    classes.append([s,t])\n",
    "\n",
    "classes.sort()\n",
    "heap = []\n",
    "heapq.heappush(heap, classes[0][1])\n",
    "\n",
    "for i in range(1,n):\n",
    "    if heap[0] <= classes[i][0]:\n",
    "        heapq.heappop(heap)\n",
    "\n",
    "    heapq.heappush(heap, classes[i][1])\n",
    "\n",
    "print(len(heap))"
   ]
  },
  {
   "cell_type": "code",
   "execution_count": null,
   "id": "a481ad64-e357-4838-a25a-fe168498f2d0",
   "metadata": {},
   "outputs": [],
   "source": [
    "Example problem:https://www.acmicpc.net/problem/14916"
   ]
  },
  {
   "cell_type": "code",
   "execution_count": null,
   "id": "965616b0-8023-4ea1-92d6-005d55dfc351",
   "metadata": {},
   "outputs": [],
   "source": [
    "n = int(input())\n",
    "\n",
    "if n == 1 or n == 3:\n",
    "    print(-1)\n",
    "else:\n",
    "    count = 0\n",
    "    while n > 0:\n",
    "        if n % 5 == 0:\n",
    "            count += n // 5\n",
    "            n = 0\n",
    "        else:\n",
    "            n -= 2\n",
    "            count += 1\n",
    "\n",
    "        if n == 1 or n == 3:\n",
    "            print(-1)\n",
    "            break\n",
    "    if n == 0:\n",
    "        print(count)\n"
   ]
  }
 ],
 "metadata": {
  "kernelspec": {
   "display_name": "Python 3 (ipykernel)",
   "language": "python",
   "name": "python3"
  },
  "language_info": {
   "codemirror_mode": {
    "name": "ipython",
    "version": 3
   },
   "file_extension": ".py",
   "mimetype": "text/x-python",
   "name": "python",
   "nbconvert_exporter": "python",
   "pygments_lexer": "ipython3",
   "version": "3.11.7"
  }
 },
 "nbformat": 4,
 "nbformat_minor": 5
}
